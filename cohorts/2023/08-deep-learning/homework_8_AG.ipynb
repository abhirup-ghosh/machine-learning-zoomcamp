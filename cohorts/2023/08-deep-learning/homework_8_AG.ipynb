{
 "cells": [
  {
   "cell_type": "markdown",
   "id": "2696393f",
   "metadata": {},
   "source": [
    "# Homework 8"
   ]
  },
  {
   "cell_type": "code",
   "execution_count": 1,
   "id": "224bc466",
   "metadata": {},
   "outputs": [
    {
     "name": "stderr",
     "output_type": "stream",
     "text": [
      "2023-11-20 11:54:16.431707: I tensorflow/core/util/util.cc:169] oneDNN custom operations are on. You may see slightly different numerical results due to floating-point round-off errors from different computation orders. To turn them off, set the environment variable `TF_ENABLE_ONEDNN_OPTS=0`.\n"
     ]
    }
   ],
   "source": [
    "import tensorflow as tf\n",
    "from tensorflow import keras\n",
    "\n",
    "import numpy as np\n",
    "import matplotlib.pyplot as plt"
   ]
  },
  {
   "cell_type": "code",
   "execution_count": 2,
   "id": "5f4254ef",
   "metadata": {},
   "outputs": [
    {
     "data": {
      "text/plain": [
       "'2.9.1'"
      ]
     },
     "execution_count": 2,
     "metadata": {},
     "output_type": "execute_result"
    }
   ],
   "source": [
    "tf.__version__"
   ]
  },
  {
   "cell_type": "code",
   "execution_count": 3,
   "id": "68a99642",
   "metadata": {},
   "outputs": [],
   "source": [
    "np.random.seed(1)\n",
    "tf.random.set_seed(1)"
   ]
  },
  {
   "cell_type": "markdown",
   "id": "ad0b48cf",
   "metadata": {},
   "source": [
    "## Dataset"
   ]
  },
  {
   "cell_type": "code",
   "execution_count": 4,
   "id": "5b9a34ce",
   "metadata": {},
   "outputs": [],
   "source": [
    "! wget https://github.com/SVizor42/ML_Zoomcamp/releases/download/bee-wasp-data/data.zip"
   ]
  },
  {
   "cell_type": "code",
   "execution_count": 5,
   "id": "3da09744",
   "metadata": {},
   "outputs": [],
   "source": [
    "! unzip data.zip"
   ]
  },
  {
   "cell_type": "markdown",
   "id": "96cf502c",
   "metadata": {},
   "source": [
    "## Model"
   ]
  },
  {
   "cell_type": "code",
   "execution_count": 6,
   "id": "6fc2dae5",
   "metadata": {},
   "outputs": [],
   "source": [
    "from keras.models import Sequential\n",
    "from keras.layers import Conv2D, MaxPooling2D, Flatten, Dense\n",
    "from keras.optimizers import SGD"
   ]
  },
  {
   "cell_type": "code",
   "execution_count": 7,
   "id": "24f1cfd8",
   "metadata": {},
   "outputs": [],
   "source": [
    "def make_model():\n",
    "\n",
    "    # Create a Sequential model\n",
    "    model = Sequential()\n",
    "    \n",
    "    input_shape = (150, 150, 3)\n",
    "\n",
    "    # Add a Convolutional layer\n",
    "    filters = 32\n",
    "    kernel_size = (3,3)\n",
    "    activation_conv = 'relu'\n",
    "    model.add(Conv2D(filters=filters, kernel_size=kernel_size, activation=activation_conv, input_shape=input_shape))\n",
    "\n",
    "    # Add a MaxPooling layer\n",
    "    pool_size = (2, 2)\n",
    "    model.add(MaxPooling2D(pool_size=pool_size))\n",
    "\n",
    "    # Flatten the result to vectors\n",
    "    model.add(Flatten())\n",
    "\n",
    "    # Add a Dense layer with 64 neurons and 'relu' activation\n",
    "    units_dense = 64\n",
    "    activation_dense = 'relu'\n",
    "    model.add(Dense(units=units_dense, activation=activation_dense))\n",
    "\n",
    "    # Add the output layer with 1 neuron and appropriate activation for binary classification\n",
    "    model.add(Dense(1, activation='sigmoid'))\n",
    "\n",
    "    # Compile the model with SGD optimizer\n",
    "    sgd = SGD(lr=0.002, momentum=0.8)\n",
    "    loss = keras.losses.binary_crossentropy\n",
    "    \n",
    "    model.compile(\n",
    "                optimizer=sgd, \n",
    "                loss=loss, \n",
    "                metrics=['accuracy']\n",
    "    )\n",
    "              \n",
    "    return model"
   ]
  },
  {
   "cell_type": "markdown",
   "id": "71118df2",
   "metadata": {},
   "source": [
    "## Question 2"
   ]
  },
  {
   "cell_type": "code",
   "execution_count": 8,
   "id": "83a437ce",
   "metadata": {},
   "outputs": [
    {
     "name": "stdout",
     "output_type": "stream",
     "text": [
      "Model: \"sequential\"\n",
      "_________________________________________________________________\n",
      " Layer (type)                Output Shape              Param #   \n",
      "=================================================================\n",
      " conv2d (Conv2D)             (None, 148, 148, 32)      896       \n",
      "                                                                 \n",
      " max_pooling2d (MaxPooling2D  (None, 74, 74, 32)       0         \n",
      " )                                                               \n",
      "                                                                 \n",
      " flatten (Flatten)           (None, 175232)            0         \n",
      "                                                                 \n",
      " dense (Dense)               (None, 64)                11214912  \n",
      "                                                                 \n",
      " dense_1 (Dense)             (None, 1)                 65        \n",
      "                                                                 \n",
      "=================================================================\n",
      "Total params: 11,215,873\n",
      "Trainable params: 11,215,873\n",
      "Non-trainable params: 0\n",
      "_________________________________________________________________\n"
     ]
    },
    {
     "name": "stderr",
     "output_type": "stream",
     "text": [
      "2023-11-20 11:54:18.688450: I tensorflow/stream_executor/cuda/cuda_gpu_executor.cc:975] successful NUMA node read from SysFS had negative value (-1), but there must be at least one NUMA node, so returning NUMA node zero\n",
      "2023-11-20 11:54:18.695642: I tensorflow/stream_executor/cuda/cuda_gpu_executor.cc:975] successful NUMA node read from SysFS had negative value (-1), but there must be at least one NUMA node, so returning NUMA node zero\n",
      "2023-11-20 11:54:18.696241: I tensorflow/stream_executor/cuda/cuda_gpu_executor.cc:975] successful NUMA node read from SysFS had negative value (-1), but there must be at least one NUMA node, so returning NUMA node zero\n",
      "2023-11-20 11:54:18.697149: I tensorflow/core/platform/cpu_feature_guard.cc:193] This TensorFlow binary is optimized with oneAPI Deep Neural Network Library (oneDNN) to use the following CPU instructions in performance-critical operations:  AVX2 AVX512F AVX512_VNNI FMA\n",
      "To enable them in other operations, rebuild TensorFlow with the appropriate compiler flags.\n",
      "2023-11-20 11:54:18.697501: I tensorflow/stream_executor/cuda/cuda_gpu_executor.cc:975] successful NUMA node read from SysFS had negative value (-1), but there must be at least one NUMA node, so returning NUMA node zero\n",
      "2023-11-20 11:54:18.698099: I tensorflow/stream_executor/cuda/cuda_gpu_executor.cc:975] successful NUMA node read from SysFS had negative value (-1), but there must be at least one NUMA node, so returning NUMA node zero\n",
      "2023-11-20 11:54:18.698632: I tensorflow/stream_executor/cuda/cuda_gpu_executor.cc:975] successful NUMA node read from SysFS had negative value (-1), but there must be at least one NUMA node, so returning NUMA node zero\n",
      "2023-11-20 11:54:19.309800: I tensorflow/stream_executor/cuda/cuda_gpu_executor.cc:975] successful NUMA node read from SysFS had negative value (-1), but there must be at least one NUMA node, so returning NUMA node zero\n",
      "2023-11-20 11:54:19.310403: I tensorflow/stream_executor/cuda/cuda_gpu_executor.cc:975] successful NUMA node read from SysFS had negative value (-1), but there must be at least one NUMA node, so returning NUMA node zero\n",
      "2023-11-20 11:54:19.310928: I tensorflow/stream_executor/cuda/cuda_gpu_executor.cc:975] successful NUMA node read from SysFS had negative value (-1), but there must be at least one NUMA node, so returning NUMA node zero\n",
      "2023-11-20 11:54:19.311425: I tensorflow/core/common_runtime/gpu/gpu_device.cc:1532] Created device /job:localhost/replica:0/task:0/device:GPU:0 with 13795 MB memory:  -> device: 0, name: Tesla T4, pci bus id: 0000:00:1e.0, compute capability: 7.5\n",
      "/opt/saturncloud/envs/saturn/lib/python3.9/site-packages/keras/optimizers/optimizer_v2/gradient_descent.py:108: UserWarning: The `lr` argument is deprecated, use `learning_rate` instead.\n",
      "  super(SGD, self).__init__(name, **kwargs)\n"
     ]
    }
   ],
   "source": [
    "model = make_model()\n",
    "model.summary()"
   ]
  },
  {
   "cell_type": "markdown",
   "id": "d1cd4d92",
   "metadata": {},
   "source": [
    "## Generators and Training"
   ]
  },
  {
   "cell_type": "code",
   "execution_count": 9,
   "id": "f89ed60d",
   "metadata": {},
   "outputs": [],
   "source": [
    "from tensorflow.keras.preprocessing.image import ImageDataGenerator"
   ]
  },
  {
   "cell_type": "code",
   "execution_count": 10,
   "id": "7172e617",
   "metadata": {},
   "outputs": [],
   "source": [
    "# Create data generators\n",
    "train_datagen = ImageDataGenerator(rescale=1./255)\n",
    "test_datagen = ImageDataGenerator(rescale=1./255)"
   ]
  },
  {
   "cell_type": "code",
   "execution_count": 11,
   "id": "97fefa18",
   "metadata": {},
   "outputs": [],
   "source": [
    "# Specify the path to your train and test directories\n",
    "train_dir = './data/train/'\n",
    "test_dir = './data/test/'"
   ]
  },
  {
   "cell_type": "code",
   "execution_count": 12,
   "id": "1599af7d",
   "metadata": {},
   "outputs": [
    {
     "name": "stdout",
     "output_type": "stream",
     "text": [
      "Found 3677 images belonging to 2 classes.\n",
      "Found 918 images belonging to 2 classes.\n"
     ]
    }
   ],
   "source": [
    "# Set up the generators\n",
    "train_generator = train_datagen.flow_from_directory(\n",
    "    train_dir,\n",
    "    target_size=(150, 150),\n",
    "    batch_size=20,\n",
    "    class_mode='binary',  # For binary classification\n",
    "    shuffle=True\n",
    ")\n",
    "\n",
    "test_generator = test_datagen.flow_from_directory(\n",
    "    test_dir,\n",
    "    target_size=(150, 150),\n",
    "    batch_size=20,\n",
    "    class_mode='binary',  # For binary classification\n",
    "    shuffle=True\n",
    ")\n"
   ]
  },
  {
   "cell_type": "markdown",
   "id": "bb906948",
   "metadata": {},
   "source": [
    "`class_mode` should be `binary`"
   ]
  },
  {
   "cell_type": "code",
   "execution_count": 13,
   "id": "e5d73626",
   "metadata": {},
   "outputs": [
    {
     "name": "stdout",
     "output_type": "stream",
     "text": [
      "Epoch 1/10\n"
     ]
    },
    {
     "name": "stderr",
     "output_type": "stream",
     "text": [
      "2023-11-20 11:54:20.945994: I tensorflow/stream_executor/cuda/cuda_dnn.cc:384] Loaded cuDNN version 8100\n",
      "2023-11-20 11:54:21.582435: I tensorflow/core/platform/default/subprocess.cc:304] Start cannot spawn child process: No such file or directory\n",
      "2023-11-20 11:54:21.582916: I tensorflow/core/platform/default/subprocess.cc:304] Start cannot spawn child process: No such file or directory\n",
      "2023-11-20 11:54:21.582945: W tensorflow/stream_executor/gpu/asm_compiler.cc:80] Couldn't get ptxas version string: INTERNAL: Couldn't invoke ptxas --version\n",
      "2023-11-20 11:54:21.583489: I tensorflow/core/platform/default/subprocess.cc:304] Start cannot spawn child process: No such file or directory\n",
      "2023-11-20 11:54:21.583561: W tensorflow/stream_executor/gpu/redzone_allocator.cc:314] INTERNAL: Failed to launch ptxas\n",
      "Relying on driver to perform ptx compilation. \n",
      "Modify $PATH to customize ptxas location.\n",
      "This message will be only logged once.\n"
     ]
    },
    {
     "name": "stdout",
     "output_type": "stream",
     "text": [
      "184/184 [==============================] - 11s 47ms/step - loss: 0.6548 - accuracy: 0.5893 - val_loss: 0.6001 - val_accuracy: 0.6808\n",
      "Epoch 2/10\n",
      "184/184 [==============================] - 8s 45ms/step - loss: 0.5860 - accuracy: 0.6834 - val_loss: 0.5580 - val_accuracy: 0.7168\n",
      "Epoch 3/10\n",
      "184/184 [==============================] - 8s 45ms/step - loss: 0.5445 - accuracy: 0.7272 - val_loss: 0.5721 - val_accuracy: 0.7037\n",
      "Epoch 4/10\n",
      "184/184 [==============================] - 8s 45ms/step - loss: 0.5195 - accuracy: 0.7512 - val_loss: 0.5324 - val_accuracy: 0.7516\n",
      "Epoch 5/10\n",
      "184/184 [==============================] - 8s 45ms/step - loss: 0.5111 - accuracy: 0.7561 - val_loss: 0.5460 - val_accuracy: 0.7200\n",
      "Epoch 6/10\n",
      "184/184 [==============================] - 8s 45ms/step - loss: 0.4802 - accuracy: 0.7789 - val_loss: 0.5165 - val_accuracy: 0.7625\n",
      "Epoch 7/10\n",
      "184/184 [==============================] - 8s 45ms/step - loss: 0.4603 - accuracy: 0.7958 - val_loss: 0.5139 - val_accuracy: 0.7505\n",
      "Epoch 8/10\n",
      "184/184 [==============================] - 8s 45ms/step - loss: 0.4356 - accuracy: 0.8055 - val_loss: 0.5137 - val_accuracy: 0.7560\n",
      "Epoch 9/10\n",
      "184/184 [==============================] - 8s 46ms/step - loss: 0.4004 - accuracy: 0.8262 - val_loss: 0.4837 - val_accuracy: 0.7691\n",
      "Epoch 10/10\n",
      "184/184 [==============================] - 8s 45ms/step - loss: 0.3798 - accuracy: 0.8393 - val_loss: 0.5108 - val_accuracy: 0.7614\n"
     ]
    }
   ],
   "source": [
    "history = model.fit(\n",
    "    train_generator,\n",
    "    epochs=10,\n",
    "    validation_data=test_generator\n",
    ")"
   ]
  },
  {
   "cell_type": "code",
   "execution_count": 14,
   "id": "2e012ca2",
   "metadata": {
    "scrolled": true
   },
   "outputs": [
    {
     "data": {
      "image/png": "[encoded data removed]",
      "text/plain": [
       "<Figure size 640x480 with 1 Axes>"
      ]
     },
     "metadata": {},
     "output_type": "display_data"
    },
    {
     "data": {
      "image/png": "[encoded data removed]",
      "text/plain": [
       "<Figure size 640x480 with 1 Axes>"
      ]
     },
     "metadata": {},
     "output_type": "display_data"
    }
   ],
   "source": [
    "# Credit for code: https://github.com/abhirup-ghosh/machine-learning-zoomcamp/blob/master/cohorts/2022/08-deep-learning/homework_8.ipynb\n",
    "\n",
    "#@ PLOTTING LOSS AND ACCURACY:\n",
    "acc = history.history['accuracy']\n",
    "val_acc = history.history['val_accuracy']\n",
    "loss = history.history['loss']\n",
    "val_loss = history.history['val_loss']\n",
    "\n",
    "epochs = range(1, len(acc) + 1)\n",
    "\n",
    "plt.plot(epochs, acc, 'bo', label='Training acc')\n",
    "plt.plot(epochs, val_acc, 'b', label='Validation acc')\n",
    "plt.title('Training and Validation Accuracy')\n",
    "plt.legend()\n",
    "\n",
    "plt.figure()\n",
    "\n",
    "plt.plot(epochs, loss, 'bo', label='Training loss')\n",
    "plt.plot(epochs, val_loss, 'b', label='Validation loss')\n",
    "plt.title('Training and Validation Loss')\n",
    "plt.legend()\n",
    "\n",
    "plt.show()"
   ]
  },
  {
   "cell_type": "markdown",
   "id": "1afd906d",
   "metadata": {},
   "source": [
    "## Question 3"
   ]
  },
  {
   "cell_type": "code",
   "execution_count": 15,
   "id": "235109d2",
   "metadata": {},
   "outputs": [
    {
     "data": {
      "text/plain": [
       "0.7674734890460968"
      ]
     },
     "execution_count": 15,
     "metadata": {},
     "output_type": "execute_result"
    }
   ],
   "source": [
    "acc_median = np.median(acc)\n",
    "acc_median"
   ]
  },
  {
   "cell_type": "markdown",
   "id": "e8843aeb",
   "metadata": {},
   "source": [
    "## Question 4"
   ]
  },
  {
   "cell_type": "code",
   "execution_count": 16,
   "id": "115d5851",
   "metadata": {},
   "outputs": [
    {
     "data": {
      "text/plain": [
       "0.0801631056249691"
      ]
     },
     "execution_count": 16,
     "metadata": {},
     "output_type": "execute_result"
    }
   ],
   "source": [
    "loss_std = np.std(loss)\n",
    "loss_std"
   ]
  },
  {
   "cell_type": "markdown",
   "id": "448da918",
   "metadata": {},
   "source": [
    "## Data augmentation"
   ]
  },
  {
   "cell_type": "code",
   "execution_count": 17,
   "id": "641ff20f",
   "metadata": {},
   "outputs": [],
   "source": [
    "train_gen = ImageDataGenerator(\n",
    "            rescale=1./255,\n",
    "            rotation_range=50,\n",
    "            width_shift_range=0.1,\n",
    "            height_shift_range=0.1,\n",
    "            zoom_range=0.1,\n",
    "            horizontal_flip=True,\n",
    "            fill_mode='nearest'\n",
    "        )"
   ]
  },
  {
   "cell_type": "code",
   "execution_count": 18,
   "id": "af5e6de4",
   "metadata": {},
   "outputs": [],
   "source": [
    "test_datagen = ImageDataGenerator(rescale=1./255)"
   ]
  },
  {
   "cell_type": "code",
   "execution_count": 19,
   "id": "1522084c",
   "metadata": {},
   "outputs": [
    {
     "name": "stdout",
     "output_type": "stream",
     "text": [
      "Found 3677 images belonging to 2 classes.\n",
      "Found 918 images belonging to 2 classes.\n"
     ]
    }
   ],
   "source": [
    "# Set up the generators\n",
    "train_generator = train_datagen.flow_from_directory(\n",
    "    train_dir,\n",
    "    target_size=(150, 150),\n",
    "    batch_size=20,\n",
    "    class_mode='binary',  # For binary classification\n",
    "    shuffle=True\n",
    ")\n",
    "\n",
    "test_generator = test_datagen.flow_from_directory(\n",
    "    test_dir,\n",
    "    target_size=(150, 150),\n",
    "    batch_size=20,\n",
    "    class_mode='binary',  # For binary classification\n",
    "    shuffle=True\n",
    ")"
   ]
  },
  {
   "cell_type": "code",
   "execution_count": 20,
   "id": "b896c483",
   "metadata": {},
   "outputs": [
    {
     "name": "stdout",
     "output_type": "stream",
     "text": [
      "Epoch 1/10\n",
      "184/184 [==============================] - 8s 46ms/step - loss: 0.3447 - accuracy: 0.8572 - val_loss: 0.5063 - val_accuracy: 0.7538\n",
      "Epoch 2/10\n",
      "184/184 [==============================] - 8s 44ms/step - loss: 0.3102 - accuracy: 0.8776 - val_loss: 0.5169 - val_accuracy: 0.7560\n",
      "Epoch 3/10\n",
      "184/184 [==============================] - 8s 45ms/step - loss: 0.2737 - accuracy: 0.8991 - val_loss: 0.5617 - val_accuracy: 0.7527\n",
      "Epoch 4/10\n",
      "184/184 [==============================] - 8s 44ms/step - loss: 0.2490 - accuracy: 0.9124 - val_loss: 0.5455 - val_accuracy: 0.7603\n",
      "Epoch 5/10\n",
      "184/184 [==============================] - 8s 44ms/step - loss: 0.2099 - accuracy: 0.9323 - val_loss: 0.5207 - val_accuracy: 0.7789\n",
      "Epoch 6/10\n",
      "184/184 [==============================] - 8s 45ms/step - loss: 0.1805 - accuracy: 0.9402 - val_loss: 0.6276 - val_accuracy: 0.7560\n",
      "Epoch 7/10\n",
      "184/184 [==============================] - 8s 45ms/step - loss: 0.1476 - accuracy: 0.9573 - val_loss: 0.6166 - val_accuracy: 0.7582\n",
      "Epoch 8/10\n",
      "184/184 [==============================] - 8s 46ms/step - loss: 0.1331 - accuracy: 0.9630 - val_loss: 0.5911 - val_accuracy: 0.7821\n",
      "Epoch 9/10\n",
      "184/184 [==============================] - 8s 45ms/step - loss: 0.1105 - accuracy: 0.9753 - val_loss: 0.7159 - val_accuracy: 0.7505\n",
      "Epoch 10/10\n",
      "184/184 [==============================] - 9s 46ms/step - loss: 0.0971 - accuracy: 0.9753 - val_loss: 0.6651 - val_accuracy: 0.7582\n"
     ]
    }
   ],
   "source": [
    "history = model.fit(\n",
    "    train_generator,\n",
    "    epochs=10,\n",
    "    validation_data=test_generator\n",
    ")"
   ]
  },
  {
   "cell_type": "code",
   "execution_count": 21,
   "id": "3ec4ecb6",
   "metadata": {},
   "outputs": [
    {
     "data": {
      "image/png": "[encoded data removed]",
      "text/plain": [
       "<Figure size 640x480 with 1 Axes>"
      ]
     },
     "metadata": {},
     "output_type": "display_data"
    },
    {
     "data": {
      "image/png": "[encoded data removed]",
      "text/plain": [
       "<Figure size 640x480 with 1 Axes>"
      ]
     },
     "metadata": {},
     "output_type": "display_data"
    }
   ],
   "source": [
    "# Credit for code: https://github.com/abhirup-ghosh/machine-learning-zoomcamp/blob/master/cohorts/2022/08-deep-learning/homework_8.ipynb\n",
    "\n",
    "#@ PLOTTING LOSS AND ACCURACY:\n",
    "acc = history.history['accuracy']\n",
    "val_acc = history.history['val_accuracy']\n",
    "loss = history.history['loss']\n",
    "val_loss = history.history['val_loss']\n",
    "\n",
    "epochs = range(1, len(acc) + 1)\n",
    "\n",
    "plt.plot(epochs, acc, 'bo', label='Training acc')\n",
    "plt.plot(epochs, val_acc, 'b', label='Validation acc')\n",
    "plt.title('Training and Validation Accuracy')\n",
    "plt.legend()\n",
    "\n",
    "plt.figure()\n",
    "\n",
    "plt.plot(epochs, loss, 'bo', label='Training loss')\n",
    "plt.plot(epochs, val_loss, 'b', label='Validation loss')\n",
    "plt.title('Training and Validation Loss')\n",
    "plt.legend()\n",
    "\n",
    "plt.show()"
   ]
  },
  {
   "cell_type": "markdown",
   "id": "fa0e1a88",
   "metadata": {},
   "source": [
    "## Question 5"
   ]
  },
  {
   "cell_type": "code",
   "execution_count": 22,
   "id": "07471e23",
   "metadata": {},
   "outputs": [
    {
     "data": {
      "text/plain": [
       "0.5867461502552033"
      ]
     },
     "execution_count": 22,
     "metadata": {},
     "output_type": "execute_result"
    }
   ],
   "source": [
    "loss_val = np.mean(val_loss)\n",
    "loss_val"
   ]
  },
  {
   "cell_type": "markdown",
   "id": "5dc63b82",
   "metadata": {},
   "source": [
    "## Question 6"
   ]
  },
  {
   "cell_type": "code",
   "execution_count": 23,
   "id": "f0bd1b31",
   "metadata": {},
   "outputs": [
    {
     "data": {
      "text/plain": [
       "[0.7559912800788879,\n",
       " 0.758169949054718,\n",
       " 0.7821350693702698,\n",
       " 0.7505446672439575,\n",
       " 0.758169949054718]"
      ]
     },
     "execution_count": 23,
     "metadata": {},
     "output_type": "execute_result"
    }
   ],
   "source": [
    "val_acc[5:10]"
   ]
  },
  {
   "cell_type": "code",
   "execution_count": 24,
   "id": "ac2d94d7",
   "metadata": {},
   "outputs": [
    {
     "data": {
      "text/plain": [
       "0.7610021829605103"
      ]
     },
     "execution_count": 24,
     "metadata": {},
     "output_type": "execute_result"
    }
   ],
   "source": [
    "acc_val = np.mean(val_acc[5:10])\n",
    "acc_val"
   ]
  }
 ],
 "metadata": {
  "kernelspec": {
   "display_name": "saturn (Python 3)",
   "language": "python",
   "name": "python3"
  },
  "language_info": {
   "codemirror_mode": {
    "name": "ipython",
    "version": 3
   },
   "file_extension": ".py",
   "mimetype": "text/x-python",
   "name": "python",
   "nbconvert_exporter": "python",
   "pygments_lexer": "ipython3",
   "version": "3.9.13"
  }
 },
 "nbformat": 4,
 "nbformat_minor": 5
}
