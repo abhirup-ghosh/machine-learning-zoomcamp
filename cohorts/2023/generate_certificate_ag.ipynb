{
 "cells": [
  {
   "cell_type": "code",
   "execution_count": 1,
   "metadata": {},
   "outputs": [],
   "source": [
    "from hashlib import sha1\n",
    "\n",
    "def compute_hash(email):\n",
    "    return sha1(email.encode('utf-8')).hexdigest()\n",
    "\n",
    "def compute_certificate_id(email):\n",
    "    email_clean = email.lower().strip()\n",
    "    return compute_hash(email_clean + '_')"
   ]
  },
  {
   "cell_type": "code",
   "execution_count": 7,
   "metadata": {},
   "outputs": [
    {
     "name": "stdout",
     "output_type": "stream",
     "text": [
      "Compute hash: 327b85a12863b823536aadaa0958de260e99a620\n",
      "Compute certificate ID: f95271e1126f00e5e99cb485e136748827ed7c63\n"
     ]
    }
   ],
   "source": [
    "email = 'abhirup.ghosh.184098@gmail.com'\n",
    "\n",
    "print('Compute hash:', compute_hash(email))\n",
    "print('Compute certificate ID:', compute_certificate_id(email))"
   ]
  },
  {
   "cell_type": "code",
   "execution_count": 8,
   "metadata": {},
   "outputs": [
    {
     "name": "stdout",
     "output_type": "stream",
     "text": [
      "https://certificate.datatalks.club/ml-zoomcamp/2023/f95271e1126f00e5e99cb485e136748827ed7c63.pdf\n"
     ]
    }
   ],
   "source": [
    "cohort = 2023\n",
    "course = 'ml-zoomcamp'\n",
    "your_id = compute_certificate_id(email)\n",
    "url = f\"https://certificate.datatalks.club/{course}/{cohort}/{your_id}.pdf\"\n",
    "print(url)"
   ]
  }
 ],
 "metadata": {
  "kernelspec": {
   "display_name": "ml-zoomcamp",
   "language": "python",
   "name": "python3"
  },
  "language_info": {
   "codemirror_mode": {
    "name": "ipython",
    "version": 3
   },
   "file_extension": ".py",
   "mimetype": "text/x-python",
   "name": "python",
   "nbconvert_exporter": "python",
   "pygments_lexer": "ipython3",
   "version": "3.9.18"
  }
 },
 "nbformat": 4,
 "nbformat_minor": 2
}
